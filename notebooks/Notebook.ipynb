{
 "cells": [
  {
   "cell_type": "code",
   "execution_count": null,
   "metadata": {},
   "outputs": [],
   "source": [
    "using Pkg\n",
    "Pkg.activate(\"$(@__DIR__)/..\")\n",
    "Pkg.instantiate()"
   ]
  },
  {
   "cell_type": "code",
   "execution_count": null,
   "metadata": {},
   "outputs": [],
   "source": [
    "using ANYmalRobot\n",
    "using Blink\n",
    "using MeshCat\n",
    "using MeshCatMechanisms\n",
    "using RigidBodyDynamics"
   ]
  },
  {
   "cell_type": "code",
   "execution_count": null,
   "metadata": {},
   "outputs": [],
   "source": [
    "mechanism = ANYmalRobot.mechanism()\n",
    "urdfvisuals = URDFVisuals(ANYmalRobot.urdfpath(), package_path = [ANYmalRobot.packagepath()]);"
   ]
  },
  {
   "cell_type": "code",
   "execution_count": null,
   "metadata": {},
   "outputs": [],
   "source": [
    "if !(@isdefined w) || w.content.sock.state != Blink.WebSockets.ReadyState(1)\n",
    "    w = Window()\n",
    "end\n",
    "\n",
    "vis = Visualizer()\n",
    "mvis = MechanismVisualizer(mechanism, urdfvisuals, vis[:robot])\n",
    "\n",
    "open(vis, w);"
   ]
  }
 ],
 "metadata": {
  "kernelspec": {
   "display_name": "Julia 1.2.0",
   "language": "julia",
   "name": "julia-1.2"
  },
  "language_info": {
   "file_extension": ".jl",
   "mimetype": "application/julia",
   "name": "julia",
   "version": "1.2.0"
  }
 },
 "nbformat": 4,
 "nbformat_minor": 4
}
